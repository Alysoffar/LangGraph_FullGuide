{
 "cells": [
  {
   "cell_type": "code",
   "execution_count": null,
   "id": "2ea61a26",
   "metadata": {},
   "outputs": [],
   "source": [
    "from langgraph.graph import StateGraph\n",
    "from typing import TypedDict, List, Dict, Any\n",
    "from functools import reduce "
   ]
  },
  {
   "cell_type": "code",
   "execution_count": 6,
   "id": "7712e32e",
   "metadata": {},
   "outputs": [],
   "source": [
    "class AgentState(TypedDict):\n",
    "    values: List[int]\n",
    "    result: str\n",
    "    name: str\n",
    "    operation: str"
   ]
  },
  {
   "cell_type": "code",
   "execution_count": 7,
   "id": "ecf9110f",
   "metadata": {},
   "outputs": [],
   "source": [
    "\n",
    "\n",
    "def calc(state : AgentState) -> AgentState:\n",
    "    \"\"\"\n",
    "    A node that calculates the sum of multiple inputs\n",
    "    \"\"\"\n",
    "    if state['operation'] == '+':\n",
    "        state['result'] = f\"Hello {state['name']}, the sum of your values is {sum(state['values'])}!\"\n",
    "    \n",
    "    elif state['operation'] == '*':\n",
    "        state['result'] = f\"Hello {state['name']} , the product of ur values is {reduce(lambda x, y: x * y, state['values'])}!\"\n",
    "\n",
    "    elif state['operation'] == '-':\n",
    "        state['result'] = f\"Hello {state['name']} , the difference of ur values is {reduce(lambda x, y: x - y, state['values'])}!\"    \n",
    "    elif state['operation'] == '/':\n",
    "        state['result'] = f\"Hello {state['name']} , the division of ur values is {reduce(lambda x, y: x / y, state['values'])}!\"\n",
    "\n",
    "    return state     "
   ]
  },
  {
   "cell_type": "code",
   "execution_count": 8,
   "id": "5fcb2b92",
   "metadata": {},
   "outputs": [],
   "source": [
    "graph = StateGraph(AgentState)\n",
    "\n",
    "graph.add_node('calc', calc)\n",
    "graph.set_entry_point(\"calc\")\n",
    "graph.set_finish_point(\"calc\")\n",
    "app = graph.compile()"
   ]
  },
  {
   "cell_type": "code",
   "execution_count": 9,
   "id": "62e5b57a",
   "metadata": {},
   "outputs": [
    {
     "data": {
      "image/png": "[encoded data removed]",
      "text/plain": [
       "<IPython.core.display.Image object>"
      ]
     },
     "metadata": {},
     "output_type": "display_data"
    }
   ],
   "source": [
    "from IPython.display import display, HTML, Image\n",
    "draw_mermaid_png = app.get_graph().draw_mermaid_png\n",
    "display(Image(draw_mermaid_png())) #Display the graph as a mermaid diagram"
   ]
  },
  {
   "cell_type": "code",
   "execution_count": 14,
   "id": "b8625b31",
   "metadata": {},
   "outputs": [
    {
     "data": {
      "text/plain": [
       "'Hello Alice , the division of ur values is 0.16666666666666666!'"
      ]
     },
     "execution_count": 14,
     "metadata": {},
     "output_type": "execute_result"
    }
   ],
   "source": [
    "result = app.invoke({\"values\": [1, 2, 3], \"name\": \"Alice\", \"operation\": \"/\"}) #Invoke the app with a list of values and a name\n",
    "result['result'] #Display the result message"
   ]
  },
  {
   "cell_type": "code",
   "execution_count": null,
   "id": "ffb2333d",
   "metadata": {},
   "outputs": [],
   "source": []
  }
 ],
 "metadata": {
  "kernelspec": {
   "display_name": "base",
   "language": "python",
   "name": "python3"
  },
  "language_info": {
   "codemirror_mode": {
    "name": "ipython",
    "version": 3
   },
   "file_extension": ".py",
   "mimetype": "text/x-python",
   "name": "python",
   "nbconvert_exporter": "python",
   "pygments_lexer": "ipython3",
   "version": "3.13.5"
  }
 },
 "nbformat": 4,
 "nbformat_minor": 5
}
