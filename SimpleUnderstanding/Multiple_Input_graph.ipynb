{
 "cells": [
  {
   "cell_type": "code",
   "execution_count": 1,
   "id": "df2e4181",
   "metadata": {},
   "outputs": [],
   "source": [
    "from langgraph.graph import StateGraph\n",
    "from typing import TypedDict ,  List, Dict, Any"
   ]
  },
  {
   "cell_type": "code",
   "execution_count": 2,
   "id": "4a91a153",
   "metadata": {},
   "outputs": [],
   "source": [
    "class AgentState(TypedDict):\n",
    "    values : List[int]\n",
    "    result : str\n",
    "    name : str"
   ]
  },
  {
   "cell_type": "code",
   "execution_count": 8,
   "id": "eaa91719",
   "metadata": {},
   "outputs": [],
   "source": [
    "def process_value(state : AgentState) -> AgentState:\n",
    "    \"\"\"\n",
    "    A node that processes multiple diff inputs\n",
    "    \"\"\"\n",
    "    print(state)\n",
    "    state['result'] = f\"Hello {state['name']}, the sum of your values is {sum(state['values'])}!\"\n",
    "    print(state)\n",
    "    return state"
   ]
  },
  {
   "cell_type": "code",
   "execution_count": 9,
   "id": "47fc3252",
   "metadata": {},
   "outputs": [],
   "source": [
    "graph = StateGraph(AgentState)\n",
    "\n",
    "graph.add_node('process_value', process_value) \n",
    "graph.set_entry_point(\"process_value\")\n",
    "graph.set_finish_point(\"process_value\")\n",
    "app = graph.compile()"
   ]
  },
  {
   "cell_type": "code",
   "execution_count": 10,
   "id": "4aab8eac",
   "metadata": {},
   "outputs": [
    {
     "data": {
      "image/png": "[encoded data removed]",
      "text/plain": [
       "<IPython.core.display.Image object>"
      ]
     },
     "metadata": {},
     "output_type": "display_data"
    }
   ],
   "source": [
    "from IPython.display import display, HTML, Image\n",
    "draw_mermaid_png = app.get_graph().draw_mermaid_png\n",
    "display(Image(draw_mermaid_png())) #Display the graph as a mermaid diagram"
   ]
  },
  {
   "cell_type": "code",
   "execution_count": 16,
   "id": "abd63d38",
   "metadata": {},
   "outputs": [
    {
     "name": "stdout",
     "output_type": "stream",
     "text": [
      "{'values': [1, 2, 3], 'name': 'Alice'}\n",
      "{'values': [1, 2, 3], 'name': 'Alice', 'result': 'Hello Alice, the sum of your values is 6!'}\n"
     ]
    },
    {
     "data": {
      "text/plain": [
       "'Hello Alice, the sum of your values is 6!'"
      ]
     },
     "execution_count": 16,
     "metadata": {},
     "output_type": "execute_result"
    }
   ],
   "source": [
    "result = app.invoke({\"values\": [1, 2, 3], \"name\": \"Alice\"}) #Invoke the app with a list of values and a name\n",
    "\n",
    "\n",
    "result['result'] #Display the result message\n",
    "# The output should be: \"Hello Alice, the sum of your values is 6!\""
   ]
  },
  {
   "cell_type": "code",
   "execution_count": 15,
   "id": "a24bb51a",
   "metadata": {},
   "outputs": [
    {
     "name": "stdout",
     "output_type": "stream",
     "text": [
      "{'values': [1, 2, 3], 'result': 'Hello Alice, the sum of your values is 6!', 'name': 'Alice'}\n"
     ]
    }
   ],
   "source": [
    "print(result)  # Display the result for verification"
   ]
  },
  {
   "cell_type": "code",
   "execution_count": null,
   "id": "eb8cc5b9",
   "metadata": {},
   "outputs": [],
   "source": []
  }
 ],
 "metadata": {
  "kernelspec": {
   "display_name": "base",
   "language": "python",
   "name": "python3"
  },
  "language_info": {
   "codemirror_mode": {
    "name": "ipython",
    "version": 3
   },
   "file_extension": ".py",
   "mimetype": "text/x-python",
   "name": "python",
   "nbconvert_exporter": "python",
   "pygments_lexer": "ipython3",
   "version": "3.13.5"
  }
 },
 "nbformat": 4,
 "nbformat_minor": 5
}
