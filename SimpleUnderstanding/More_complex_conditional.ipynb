{
 "cells": [
  {
   "cell_type": "code",
   "execution_count": 38,
   "id": "7a8bf79d",
   "metadata": {},
   "outputs": [],
   "source": [
    "from langgraph.graph import StateGraph , START , END\n",
    "from typing import TypedDict, List, Dict, Any"
   ]
  },
  {
   "cell_type": "code",
   "execution_count": 39,
   "id": "0d882f19",
   "metadata": {},
   "outputs": [],
   "source": [
    "class AgentState(TypedDict):\n",
    "    number1 : int\n",
    "    number2 : int\n",
    "    number3 : int\n",
    "    number4 : int\n",
    "    result : int\n",
    "    result2 : int\n",
    "    operation1 : str\n",
    "    operation2 : str"
   ]
  },
  {
   "cell_type": "code",
   "execution_count": 40,
   "id": "fe15232b",
   "metadata": {},
   "outputs": [],
   "source": [
    "def adder(state: AgentState) -> AgentState:\n",
    "    \"\"\"This node add 2 numbers\"\"\"\n",
    "\n",
    "    state[\"result\"] = state[\"number1\"] + state[\"number2\"]\n",
    "    return state\n",
    "\n",
    "def subbtractor(state: AgentState) -> AgentState:\n",
    "    \"\"\"This node subt 2 numbers\"\"\"\n",
    "\n",
    "    state[\"result\"] = state[\"number1\"] - state[\"number2\"]\n",
    "    return state\n",
    "\n",
    "def decide_next_node(state: AgentState) -> str:\n",
    "    \"\"\"This node decide which node to go next\"\"\"\n",
    "\n",
    "    if state[\"operation1\"] == \"+\":\n",
    "        return \"adder\"\n",
    "    elif state[\"operation1\"] == \"-\":\n",
    "        return \"subbtractor\"\n",
    "    else:\n",
    "        raise ValueError(\"Unknown operation1\")\n",
    "    \n",
    "\n",
    "    "
   ]
  },
  {
   "cell_type": "code",
   "execution_count": 41,
   "id": "38313277",
   "metadata": {},
   "outputs": [],
   "source": [
    "def adder2(state: AgentState) -> AgentState:\n",
    "    \"\"\"This node add 2 numbers\"\"\"\n",
    "\n",
    "    state[\"result2\"] = state[\"number3\"] + state[\"number4\"]\n",
    "    return state\n",
    "\n",
    "def subbtractor2(state: AgentState) -> AgentState:\n",
    "    \"\"\"This node subt 2 numbers\"\"\"\n",
    "\n",
    "    state[\"result2\"] = state[\"number3\"] - state[\"number4\"]\n",
    "    return state\n",
    "\n",
    "def decide_next_node2(state: AgentState) -> str:\n",
    "    \"\"\"This node decide which node to go next\"\"\"\n",
    "\n",
    "    if state[\"operation2\"] == \"+\":\n",
    "        return \"adde2r\"\n",
    "    elif state[\"operation2\"] == \"-\":\n",
    "        return \"subbtractor2\"\n",
    "    else:\n",
    "        raise ValueError(\"Unknown operation2\")"
   ]
  },
  {
   "cell_type": "code",
   "execution_count": 42,
   "id": "403783fb",
   "metadata": {},
   "outputs": [],
   "source": [
    "graph = StateGraph(AgentState)\n",
    "\n",
    "graph.add_node('add', adder)\n",
    "graph.add_node('sub', subbtractor)\n",
    "graph.add_node('decide', lambda state:state) #pass through funstion, as we dont assign anything we just compare the operation\n",
    "\n",
    "graph.add_edge(START, 'decide')\n",
    "\n",
    "graph.add_conditional_edges(\n",
    "    'decide',\n",
    "    decide_next_node,\n",
    "    {\n",
    "        'adder': 'add',\n",
    "        'subbtractor': 'sub'\n",
    "    }\n",
    "\n",
    ") #Add conditional edges based on the operation\n",
    "\n",
    "\n",
    "\n",
    "graph.add_node('add2', adder2)\n",
    "graph.add_node('sub2', subbtractor2)\n",
    "graph.add_node('decide2', lambda state:state) #pass through funstion, as we dont assign anything we just compare the operation\n",
    "\n",
    "graph.add_edge('add', 'decide2')\n",
    "graph.add_edge('sub', 'decide2')\n",
    "\n",
    "\n",
    "graph.add_conditional_edges(\n",
    "    'decide2',\n",
    "    decide_next_node2,\n",
    "    {\n",
    "        'adder2': 'add2',\n",
    "        'subbtractor2': 'sub2'\n",
    "    }\n",
    "\n",
    ") #Add conditional edges based on the operation\n",
    "\n",
    "\n",
    "graph.add_edge('add2', END)\n",
    "graph.add_edge('sub2', END)\n",
    "app = graph.compile()"
   ]
  },
  {
   "cell_type": "code",
   "execution_count": 43,
   "id": "b4f71523",
   "metadata": {},
   "outputs": [
    {
     "data": {
      "image/png": "[encoded data removed]",
      "text/plain": [
       "<IPython.core.display.Image object>"
      ]
     },
     "metadata": {},
     "output_type": "display_data"
    }
   ],
   "source": [
    "from IPython.display import display , Image\n",
    "draw_mermaid_png = app.get_graph().draw_mermaid_png\n",
    "display(Image(draw_mermaid_png())) #Display the graph as a mermaid diagram\n"
   ]
  },
  {
   "cell_type": "code",
   "execution_count": 44,
   "id": "6dc115d5",
   "metadata": {},
   "outputs": [
    {
     "name": "stdout",
     "output_type": "stream",
     "text": [
      "{'number1': 10, 'number2': 5, 'number3': 3, 'number4': 3, 'result': 15, 'result2': 0, 'operation1': '+', 'operation2': '-'}\n"
     ]
    }
   ],
   "source": [
    "initial_state_1 = AgentState(\n",
    "    number1=10,\n",
    "    number2=5,\n",
    "    number3=3,\n",
    "    number4=3,\n",
    "    operation1='+',\n",
    "    operation2='-') #another way to invoke the graph\n",
    "\n",
    "print(app.invoke(initial_state_1))"
   ]
  },
  {
   "cell_type": "code",
   "execution_count": null,
   "id": "9a4401d8",
   "metadata": {},
   "outputs": [],
   "source": []
  }
 ],
 "metadata": {
  "kernelspec": {
   "display_name": "base",
   "language": "python",
   "name": "python3"
  },
  "language_info": {
   "codemirror_mode": {
    "name": "ipython",
    "version": 3
   },
   "file_extension": ".py",
   "mimetype": "text/x-python",
   "name": "python",
   "nbconvert_exporter": "python",
   "pygments_lexer": "ipython3",
   "version": "3.13.5"
  }
 },
 "nbformat": 4,
 "nbformat_minor": 5
}
