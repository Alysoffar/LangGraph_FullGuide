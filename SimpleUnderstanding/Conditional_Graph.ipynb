{
 "cells": [
  {
   "cell_type": "code",
   "execution_count": 2,
   "id": "d0e6b28c",
   "metadata": {},
   "outputs": [],
   "source": [
    "from langgraph.graph import StateGraph , START , END\n",
    "from typing import TypedDict, List, Dict, Any"
   ]
  },
  {
   "cell_type": "code",
   "execution_count": 3,
   "id": "dd3fb7c5",
   "metadata": {},
   "outputs": [],
   "source": [
    "class AgentState(TypedDict):\n",
    "    number1 : int\n",
    "    number2 : int\n",
    "    result : int\n",
    "    operation : str"
   ]
  },
  {
   "cell_type": "code",
   "execution_count": 4,
   "id": "704b8f4a",
   "metadata": {},
   "outputs": [],
   "source": [
    "def adder(state: AgentState) -> AgentState:\n",
    "    \"\"\"This node add 2 numbers\"\"\"\n",
    "\n",
    "    state[\"result\"] = state[\"number1\"] + state[\"number2\"]\n",
    "    return state\n",
    "\n",
    "def subbtractor(state: AgentState) -> AgentState:\n",
    "    \"\"\"This node subt 2 numbers\"\"\"\n",
    "\n",
    "    state[\"result\"] = state[\"number1\"] - state[\"number2\"]\n",
    "    return state\n",
    "\n",
    "def decide_next_node(state: AgentState) -> str:\n",
    "    \"\"\"This node decide which node to go next\"\"\"\n",
    "\n",
    "    if state[\"operation\"] == \"+\":\n",
    "        return \"adder\"\n",
    "    elif state[\"operation\"] == \"-\":\n",
    "        return \"subbtractor\"\n",
    "    else:\n",
    "        raise ValueError(\"Unknown operation\")"
   ]
  },
  {
   "cell_type": "code",
   "execution_count": 6,
   "id": "36332e2d",
   "metadata": {},
   "outputs": [],
   "source": [
    "graph = StateGraph(AgentState)\n",
    "\n",
    "graph.add_node('add', adder)\n",
    "graph.add_node('sub', subbtractor)\n",
    "graph.add_node('decide', lambda state:state) #pass through funstion, as we dont assign anything we just compare the operation\n",
    "\n",
    "graph.add_edge(START, 'decide')\n",
    "\n",
    "graph.add_conditional_edges(\n",
    "    'decide',\n",
    "    decide_next_node,\n",
    "    {\n",
    "        'adder': 'add',\n",
    "        'subbtractor': 'sub'\n",
    "    }\n",
    "\n",
    ") #Add conditional edges based on the operation\n",
    "\n",
    "graph.add_edge('add', END)\n",
    "graph.add_edge('sub', END)\n",
    "app = graph.compile()"
   ]
  },
  {
   "cell_type": "code",
   "execution_count": 7,
   "id": "967f7d34",
   "metadata": {},
   "outputs": [
    {
     "data": {
      "image/png": "[encoded data removed]",
      "text/plain": [
       "<IPython.core.display.Image object>"
      ]
     },
     "metadata": {},
     "output_type": "display_data"
    }
   ],
   "source": [
    "from IPython.display import display , Image\n",
    "draw_mermaid_png = app.get_graph().draw_mermaid_png\n",
    "display(Image(draw_mermaid_png())) #Display the graph as a mermaid diagram\n"
   ]
  },
  {
   "cell_type": "code",
   "execution_count": null,
   "id": "be60a753",
   "metadata": {},
   "outputs": [
    {
     "name": "stdout",
     "output_type": "stream",
     "text": [
      "{'number1': 10, 'number2': 5, 'result': 15, 'operation': '+'}\n"
     ]
    }
   ],
   "source": [
    "initial_state_1 = AgentState(\n",
    "    number1=10,\n",
    "    number2=5,\n",
    "    operation= '+') #another qay to invoke the graph\n",
    "print(app.invoke(initial_state_1))"
   ]
  },
  {
   "cell_type": "code",
   "execution_count": null,
   "id": "409ba4bf",
   "metadata": {},
   "outputs": [],
   "source": []
  }
 ],
 "metadata": {
  "kernelspec": {
   "display_name": "base",
   "language": "python",
   "name": "python3"
  },
  "language_info": {
   "codemirror_mode": {
    "name": "ipython",
    "version": 3
   },
   "file_extension": ".py",
   "mimetype": "text/x-python",
   "name": "python",
   "nbconvert_exporter": "python",
   "pygments_lexer": "ipython3",
   "version": "3.13.5"
  }
 },
 "nbformat": 4,
 "nbformat_minor": 5
}
