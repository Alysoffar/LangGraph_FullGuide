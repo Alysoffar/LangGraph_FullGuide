{
 "cells": [
  {
   "cell_type": "code",
   "execution_count": 73,
   "id": "3d77c360",
   "metadata": {},
   "outputs": [],
   "source": [
    "from langgraph.graph import StateGraph , START , END\n",
    "from typing import TypedDict, List, Dict, Any\n",
    "import random"
   ]
  },
  {
   "cell_type": "code",
   "execution_count": 74,
   "id": "3b4b572a",
   "metadata": {},
   "outputs": [],
   "source": [
    "class AgentState(TypedDict):\n",
    "    guesses: List[int]\n",
    "    name : str\n",
    "    counter: int\n",
    "    targetnumber: int\n",
    "    hint: str\n",
    "    lower_bound: int\n",
    "    upper_bound: int\n"
   ]
  },
  {
   "cell_type": "code",
   "execution_count": 75,
   "id": "7076efb0",
   "metadata": {},
   "outputs": [],
   "source": [
    "def setup(state: AgentState) -> AgentState:\n",
    "    \"\"\"Setting up the game state.\"\"\"\n",
    "\n",
    "    state['guesses'] = []\n",
    "    state['name'] = \"John\"\n",
    "    state['counter'] = 0\n",
    "    state['targetnumber'] = random.randint(1, 20)\n",
    "    state['hint'] = \"\"\n",
    "    state['lower_bound'] = 1\n",
    "    state['upper_bound'] = 20\n",
    "    return state\n",
    "\n"
   ]
  },
  {
   "cell_type": "code",
   "execution_count": 76,
   "id": "a004a317",
   "metadata": {},
   "outputs": [],
   "source": [
    "def user_guess(state: AgentState) -> AgentState:\n",
    "    \"\"\"input user gueses\"\"\"\n",
    "    guess = int(input(f\"Hello {state['name']}, please enter your guess (between {state['lower_bound']} and {state['upper_bound']}): \"))\n",
    "    state['guesses'].append(guess)\n",
    "    state['counter'] += 1\n",
    "    return state\n",
    "\n",
    "def check_guess(state: AgentState) -> AgentState:\n",
    "    \"\"\" checks the user's guess.\"\"\"\n",
    "    guess = state['guesses'][-1]\n",
    "    if guess < state['targetnumber']:\n",
    "        state['hint'] = \"Too low!\"\n",
    "        state['lower_bound'] = max(state['lower_bound'], guess + 1)\n",
    "        print(f\"Hint: {state['hint']}\")\n",
    "    elif guess > state['targetnumber']:\n",
    "        state['hint'] = \"Too high!\"\n",
    "        state['upper_bound'] = min(state['upper_bound'], guess - 1)\n",
    "        print(f\"Hint: {state['hint']}\")\n",
    "    else:\n",
    "        state['hint'] = f\"Congratulations {state['name']}! You've guessed the number {state['targetnumber']} in {state['counter']} tries.\"\n",
    "        print(f\"Success! {state['hint']}\")\n",
    "    return state\n",
    "\n",
    "def should_continue(state: AgentState) -> str:\n",
    "    \"\"\"Looping logic\"\"\"\n",
    "    guess = state['guesses'][-1]\n",
    "    if guess == state[\"targetnumber\"]:\n",
    "        print(f\"GAME OVER: Number found!\")\n",
    "        return \"exit\"\n",
    "    if state['hint'].startswith(\"Congratulations\"):\n",
    "        print(f\"CONTINUING: {state['attempts']}/7 attempts used\")\n",
    "        return \"exit\"\n",
    "    elif state[\"counter\"]>7:\n",
    "        print(f\"GAME OVER: Maximum attempts reached! The number was {state['targetnumber']}\")\n",
    "        return \"exit\"\n",
    "    \n",
    "    return \"loop\""
   ]
  },
  {
   "cell_type": "code",
   "execution_count": 77,
   "id": "51505564",
   "metadata": {},
   "outputs": [],
   "source": [
    "graph = StateGraph(AgentState)\n",
    "graph.add_node(\"setup\",setup)\n",
    "graph.add_node(\"user_guess\", user_guess)\n",
    "graph.add_node(\"check_guess\", check_guess)\n",
    "\n",
    "graph.add_edge(\"setup\", \"user_guess\")\n",
    "graph.add_edge(\"user_guess\", \"check_guess\")\n",
    "\n",
    "graph.add_conditional_edges(\n",
    "    \"check_guess\",\n",
    "    should_continue,\n",
    "    {\n",
    "        \"exit\": END,\n",
    "        \"loop\": \"user_guess\"\n",
    "    },)\n",
    "\n",
    "graph.set_entry_point(\"setup\")\n",
    "app = graph.compile()\n"
   ]
  },
  {
   "cell_type": "code",
   "execution_count": 78,
   "id": "d322a02d",
   "metadata": {},
   "outputs": [
    {
     "data": {
      "image/png": "[encoded data removed]",
      "text/plain": [
       "<IPython.core.display.Image object>"
      ]
     },
     "metadata": {},
     "output_type": "display_data"
    }
   ],
   "source": [
    "from IPython.display import display , Image\n",
    "draw_mermaid_png = app.get_graph().draw_mermaid_png\n",
    "display(Image(draw_mermaid_png())) #Display the graph as a mermaid diagram"
   ]
  },
  {
   "cell_type": "code",
   "execution_count": 79,
   "id": "002ed662",
   "metadata": {},
   "outputs": [
    {
     "name": "stdout",
     "output_type": "stream",
     "text": [
      "Hint: Too low!\n",
      "Hint: Too low!\n",
      "Hint: Too low!\n",
      "Hint: Too low!\n",
      "Hint: Too high!\n",
      "Hint: Too high!\n",
      "Success! Congratulations John! You've guessed the number 8 in 7 tries.\n",
      "GAME OVER: Number found!\n",
      "{'guesses': [2, 3, 4, 7, 10, 9, 8], 'name': 'John', 'counter': 7, 'targetnumber': 8, 'hint': \"Congratulations John! You've guessed the number 8 in 7 tries.\", 'lower_bound': 8, 'upper_bound': 8}\n"
     ]
    }
   ],
   "source": [
    "initial_state_1 = AgentState(\n",
    "    name=\"Aly\",\n",
    "    guesses=[],\n",
    "    counter=0,\n",
    "    targetnumber=random.randint(1, 20),\n",
    "    hint=\"\",\n",
    "    lower_bound=1,\n",
    "    upper_bound=20,\n",
    "\n",
    "    ) #another way to invoke the graph\n",
    "\n",
    "print(app.invoke(initial_state_1))"
   ]
  },
  {
   "cell_type": "code",
   "execution_count": null,
   "id": "fbfaa1be",
   "metadata": {},
   "outputs": [],
   "source": []
  }
 ],
 "metadata": {
  "kernelspec": {
   "display_name": "base",
   "language": "python",
   "name": "python3"
  },
  "language_info": {
   "codemirror_mode": {
    "name": "ipython",
    "version": 3
   },
   "file_extension": ".py",
   "mimetype": "text/x-python",
   "name": "python",
   "nbconvert_exporter": "python",
   "pygments_lexer": "ipython3",
   "version": "3.13.5"
  }
 },
 "nbformat": 4,
 "nbformat_minor": 5
}
